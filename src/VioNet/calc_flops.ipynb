{
 "cells": [
  {
   "cell_type": "code",
   "execution_count": 2,
   "metadata": {},
   "outputs": [],
   "source": [
    "import torch\n",
    "import torch.nn as nn\n",
    "import torch.backends.cudnn as cudnn\n",
    "\n",
    "from models.densenet import densenet88\n",
    "from models.c3d import C3D\n",
    "from models.convlstm import ConvLSTM\n",
    "\n",
    "from torchsummary import summary\n",
    "from thop import profile"
   ]
  },
  {
   "cell_type": "code",
   "execution_count": 3,
   "metadata": {},
   "outputs": [],
   "source": [
    "use_cuda = True\n",
    "multigpus = True\n",
    "\n",
    "# set cudnn backend to benchmark config\n",
    "cudnn.benchmark = True\n",
    "device = torch.device('cpu')"
   ]
  },
  {
   "cell_type": "code",
   "execution_count": 4,
   "metadata": {},
   "outputs": [],
   "source": [
    "densenet88 = densenet88(num_classes=2, sample_size=112, sample_duration=16).eval().to(device)\n",
    "c3d = C3D(num_classes=2).eval().to(device)\n",
    "convlstm = ConvLSTM(256, device).eval().to(device)"
   ]
  },
  {
   "cell_type": "code",
   "execution_count": 5,
   "metadata": {},
   "outputs": [
    {
     "ename": "TypeError",
     "evalue": "forward() got an unexpected keyword argument 'num_classes'",
     "output_type": "error",
     "traceback": [
      "\u001b[1;31m---------------------------------------------------------------------------\u001b[0m",
      "\u001b[1;31mTypeError\u001b[0m                                 Traceback (most recent call last)",
      "\u001b[1;32md:\\Violent\\Train_AVSS2019\\AVSS2019\\src\\VioNet\\calc_flops.ipynb Cell 4'\u001b[0m in \u001b[0;36m<cell line: 1>\u001b[1;34m()\u001b[0m\n\u001b[1;32m----> <a href='vscode-notebook-cell:/d%3A/Violent/Train_AVSS2019/AVSS2019/src/VioNet/calc_flops.ipynb#ch0000003?line=0'>1</a>\u001b[0m model \u001b[39m=\u001b[39m densenet88(num_classes\u001b[39m=\u001b[39;49m\u001b[39m2\u001b[39;49m, sample_size\u001b[39m=\u001b[39;49m\u001b[39m112\u001b[39;49m, sample_duration\u001b[39m=\u001b[39;49m\u001b[39m16\u001b[39;49m)\u001b[39m.\u001b[39meval()\u001b[39m.\u001b[39mto(device)\n\u001b[0;32m      <a href='vscode-notebook-cell:/d%3A/Violent/Train_AVSS2019/AVSS2019/src/VioNet/calc_flops.ipynb#ch0000003?line=1'>2</a>\u001b[0m \u001b[39m# summary(convlstm,(3,16,224,224))\u001b[39;00m\n\u001b[0;32m      <a href='vscode-notebook-cell:/d%3A/Violent/Train_AVSS2019/AVSS2019/src/VioNet/calc_flops.ipynb#ch0000003?line=2'>3</a>\u001b[0m flops, params \u001b[39m=\u001b[39m profile(model, input_size\u001b[39m=\u001b[39m(\u001b[39m1\u001b[39m, \u001b[39m3\u001b[39m, \u001b[39m16\u001b[39m, \u001b[39m112\u001b[39m,\u001b[39m112\u001b[39m))\n",
      "File \u001b[1;32m~\\anaconda3\\envs\\tf_gpu\\lib\\site-packages\\torch\\nn\\modules\\module.py:1102\u001b[0m, in \u001b[0;36mModule._call_impl\u001b[1;34m(self, *input, **kwargs)\u001b[0m\n\u001b[0;32m   <a href='file:///c%3A/Users/admin/anaconda3/envs/tf_gpu/lib/site-packages/torch/nn/modules/module.py?line=1097'>1098</a>\u001b[0m \u001b[39m# If we don't have any hooks, we want to skip the rest of the logic in\u001b[39;00m\n\u001b[0;32m   <a href='file:///c%3A/Users/admin/anaconda3/envs/tf_gpu/lib/site-packages/torch/nn/modules/module.py?line=1098'>1099</a>\u001b[0m \u001b[39m# this function, and just call forward.\u001b[39;00m\n\u001b[0;32m   <a href='file:///c%3A/Users/admin/anaconda3/envs/tf_gpu/lib/site-packages/torch/nn/modules/module.py?line=1099'>1100</a>\u001b[0m \u001b[39mif\u001b[39;00m \u001b[39mnot\u001b[39;00m (\u001b[39mself\u001b[39m\u001b[39m.\u001b[39m_backward_hooks \u001b[39mor\u001b[39;00m \u001b[39mself\u001b[39m\u001b[39m.\u001b[39m_forward_hooks \u001b[39mor\u001b[39;00m \u001b[39mself\u001b[39m\u001b[39m.\u001b[39m_forward_pre_hooks \u001b[39mor\u001b[39;00m _global_backward_hooks\n\u001b[0;32m   <a href='file:///c%3A/Users/admin/anaconda3/envs/tf_gpu/lib/site-packages/torch/nn/modules/module.py?line=1100'>1101</a>\u001b[0m         \u001b[39mor\u001b[39;00m _global_forward_hooks \u001b[39mor\u001b[39;00m _global_forward_pre_hooks):\n\u001b[1;32m-> <a href='file:///c%3A/Users/admin/anaconda3/envs/tf_gpu/lib/site-packages/torch/nn/modules/module.py?line=1101'>1102</a>\u001b[0m     \u001b[39mreturn\u001b[39;00m forward_call(\u001b[39m*\u001b[39m\u001b[39minput\u001b[39m, \u001b[39m*\u001b[39m\u001b[39m*\u001b[39mkwargs)\n\u001b[0;32m   <a href='file:///c%3A/Users/admin/anaconda3/envs/tf_gpu/lib/site-packages/torch/nn/modules/module.py?line=1102'>1103</a>\u001b[0m \u001b[39m# Do not call functions when jit is used\u001b[39;00m\n\u001b[0;32m   <a href='file:///c%3A/Users/admin/anaconda3/envs/tf_gpu/lib/site-packages/torch/nn/modules/module.py?line=1103'>1104</a>\u001b[0m full_backward_hooks, non_full_backward_hooks \u001b[39m=\u001b[39m [], []\n",
      "\u001b[1;31mTypeError\u001b[0m: forward() got an unexpected keyword argument 'num_classes'"
     ]
    }
   ],
   "source": [
    "model = densenet88(num_classes=2, sample_size=112, sample_duration=16).eval().to(device)\n",
    "# summary(convlstm,(3,16,224,224))\n",
    "flops, params = profile(model, input_size=(1, 3, 16, 112,112))"
   ]
  },
  {
   "cell_type": "code",
   "execution_count": null,
   "metadata": {},
   "outputs": [
    {
     "ename": "",
     "evalue": "",
     "output_type": "error",
     "traceback": [
      "\u001b[1;31mRunning cells with 'Python 3.9.11 ('Pytorch')' requires ipykernel package.\n",
      "Run the following command to install 'ipykernel' into the Python environment. \n",
      "Command: 'conda install -n Pytorch ipykernel --update-deps --force-reinstall'"
     ]
    }
   ],
   "source": [
    "flops"
   ]
  },
  {
   "cell_type": "code",
   "execution_count": null,
   "metadata": {},
   "outputs": [
    {
     "ename": "",
     "evalue": "",
     "output_type": "error",
     "traceback": [
      "\u001b[1;31mRunning cells with 'Python 3.9.11 ('Pytorch')' requires ipykernel package.\n",
      "Run the following command to install 'ipykernel' into the Python environment. \n",
      "Command: 'conda install -n Pytorch ipykernel --update-deps --force-reinstall'"
     ]
    }
   ],
   "source": []
  }
 ],
 "metadata": {
  "kernelspec": {
   "display_name": "Python 3",
   "language": "python",
   "name": "python3"
  },
  "language_info": {
   "codemirror_mode": {
    "name": "ipython",
    "version": 3
   },
   "file_extension": ".py",
   "mimetype": "text/x-python",
   "name": "python",
   "nbconvert_exporter": "python",
   "pygments_lexer": "ipython3",
   "version": "3.9.12"
  }
 },
 "nbformat": 4,
 "nbformat_minor": 4
}
